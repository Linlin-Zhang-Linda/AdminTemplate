{
  "nbformat": 4,
  "nbformat_minor": 0,
  "metadata": {
    "colab": {
      "name": "习大大2021贺词-wordcloud练习.ipynb",
      "provenance": [],
      "collapsed_sections": [],
      "authorship_tag": "ABX9TyMYdNPb01foWfLI+yolA+Ir",
      "include_colab_link": true
    },
    "kernelspec": {
      "name": "python3",
      "display_name": "Python 3"
    },
    "accelerator": "GPU"
  },
  "cells": [
    {
      "cell_type": "markdown",
      "metadata": {
        "id": "view-in-github",
        "colab_type": "text"
      },
      "source": [
        "<a href=\"https://colab.research.google.com/github/Linlin-Zhang-Linda/AdminTemplate/blob/master/%E4%B9%A0%E5%A4%A7%E5%A4%A72021%E8%B4%BA%E8%AF%8D_wordcloud%E7%BB%83%E4%B9%A0.ipynb\" target=\"_parent\"><img src=\"https://colab.research.google.com/assets/colab-badge.svg\" alt=\"Open In Colab\"/></a>"
      ]
    },
    {
      "cell_type": "code",
      "metadata": {
        "id": "tZ2jchvM51Tu"
      },
      "source": [
        "#安装库 jieba；wordcloud\n",
        "import jieba\n",
        "import wordcloud"
      ],
      "execution_count": null,
      "outputs": []
    },
    {
      "cell_type": "code",
      "metadata": {
        "colab": {
          "base_uri": "https://localhost:8080/"
        },
        "id": "HqYEfHHr77v8",
        "outputId": "39ec91cb-eded-4769-a713-fb7c1b455461"
      },
      "source": [
        "#将colab与drive连接\n",
        "from google.colab import drive\n",
        "drive.mount('/content/drive')"
      ],
      "execution_count": null,
      "outputs": [
        {
          "output_type": "stream",
          "text": [
            "Drive already mounted at /content/drive; to attempt to forcibly remount, call drive.mount(\"/content/drive\", force_remount=True).\n"
          ],
          "name": "stdout"
        }
      ]
    },
    {
      "cell_type": "code",
      "metadata": {
        "id": "BmluqGEUH_bD"
      },
      "source": [
        "#用于形状\n",
        "from imageio import imread "
      ],
      "execution_count": null,
      "outputs": []
    },
    {
      "cell_type": "code",
      "metadata": {
        "colab": {
          "base_uri": "https://localhost:8080/"
        },
        "id": "gw9fmkS7KLF5",
        "outputId": "80425bd4-4812-4564-bb8f-f31e035c0128"
      },
      "source": [
        "#显示drive目录下内容\n",
        "path = \"/content/drive/My Drive\"\n",
        "\n",
        "os.chdir(path)\n",
        "os.listdir(path)"
      ],
      "execution_count": null,
      "outputs": [
        {
          "output_type": "execute_result",
          "data": {
            "text/plain": [
              "['Assignment',\n",
              " 'Colab Notebooks',\n",
              " 'credentials .csv',\n",
              " 'credentials_2.csv',\n",
              " 'cake.jpg',\n",
              " 'AWS',\n",
              " 'icecream.jpg',\n",
              " 'HW3-Linlin Zhang.ipynb',\n",
              " 'Shih_Tzu.txt',\n",
              " 'Shih_Tzu',\n",
              " 'Untitled1.ipynb',\n",
              " 'HW4（demo）.mp4',\n",
              " 'ClassifyingImagesWithVisionAndCoreML.zip',\n",
              " 'Untitled0.ipynb',\n",
              " 'Untitled2.ipynb',\n",
              " 'Untitled3.ipynb',\n",
              " 'background.png',\n",
              " 'yes.jpg',\n",
              " 'good.jpg',\n",
              " 'good2.PNG',\n",
              " '5DDF12FE-1987-4911-8FDE-5E860B37BE53.png',\n",
              " '33.png',\n",
              " '4465D963-8B71-4B2A-87FE-616BABA98378.png',\n",
              " 'GCP.png',\n",
              " '1.png',\n",
              " 'Report on the image Classification on iOS_LinlinZhang.docx',\n",
              " 'Final.mov',\n",
              " 'Final--Linlin Zhang.ipynb',\n",
              " 'Black-capped Chickadee_photo.csv',\n",
              " 'Carolina Chickadees_photo.csv',\n",
              " 'Untitled4.ipynb',\n",
              " 'Animal Classifier.mp4',\n",
              " 'Animal Classifier-Lin.mp4',\n",
              " 'natural-language-fc038caf48a0.json',\n",
              " 'autotrace',\n",
              " '习大大贺词.txt',\n",
              " 'xdd.png',\n",
              " '爱心.png',\n",
              " 'xddd.png',\n",
              " '爱心呀.png',\n",
              " 'xdddd.png',\n",
              " '习大大照片.jpg',\n",
              " 'xddddd.png',\n",
              " 'xidada.png',\n",
              " '爱心呀呀.jpg',\n",
              " 'xidadada.png']"
            ]
          },
          "metadata": {
            "tags": []
          },
          "execution_count": 166
        }
      ]
    },
    {
      "cell_type": "code",
      "metadata": {
        "colab": {
          "base_uri": "https://localhost:8080/",
          "height": 286
        },
        "id": "Y7_pYJU9KRXy",
        "outputId": "8c708e4d-80ad-4b9b-93d6-d871806fbb0c"
      },
      "source": [
        "#显示图片\n",
        "from PIL import Image\n",
        "import matplotlib.pyplot as plt\n",
        "import numpy as np\n",
        "\n",
        "img = Image.open(\"爱心呀呀.jpg\")\n",
        "print(img.mode)\n",
        "plt.figure(\"img\")\n",
        "plt.imshow(img)\n",
        "plt.show()"
      ],
      "execution_count": null,
      "outputs": [
        {
          "output_type": "stream",
          "text": [
            "L\n"
          ],
          "name": "stdout"
        },
        {
          "output_type": "display_data",
          "data": {
            "image/png": "[encoded data removed]",
            "text/plain": [
              "<Figure size 432x288 with 1 Axes>"
            ]
          },
          "metadata": {
            "tags": [],
            "needs_background": "light"
          }
        }
      ]
    },
    {
      "cell_type": "code",
      "metadata": {
        "id": "rNgCo9TRJnay"
      },
      "source": [
        "#设置遮罩\n",
        "mask = imread(\"爱心呀呀.jpg\")"
      ],
      "execution_count": null,
      "outputs": []
    },
    {
      "cell_type": "code",
      "metadata": {
        "id": "r_p6-DvNEu9u"
      },
      "source": [
        "#读取已上传的2021年贺词文档；注意encoding=\"gbk\" 若写为utf-8会报错\n",
        "f = open(\"/content/drive/My Drive/习大大贺词.txt\", \"r\", encoding=\"gbk\")"
      ],
      "execution_count": null,
      "outputs": []
    },
    {
      "cell_type": "code",
      "metadata": {
        "id": "i90c0_gAE4oM"
      },
      "source": [
        "t = f.read()\n",
        "f.close()"
      ],
      "execution_count": null,
      "outputs": []
    },
    {
      "cell_type": "code",
      "metadata": {
        "id": "RWduHFO9FPbc"
      },
      "source": [
        "#分词处理\n",
        "ls = jieba.lcut(t)\n",
        "txt = \" \".join(ls)"
      ],
      "execution_count": null,
      "outputs": []
    },
    {
      "cell_type": "code",
      "metadata": {
        "colab": {
          "base_uri": "https://localhost:8080/"
        },
        "id": "ZNAPdMM_Gg09",
        "outputId": "fd874738-4960-48f4-c586-bfb5a5a84a75"
      },
      "source": [
        "#安装simhei字体；用于后续词云font_path设置；否则会出现乱码\n",
        "!wget -O /usr/share/fonts/truetype/liberation/simhei.ttf \"https://www.wfonts.com/download/data/2014/06/01/simhei/chinese.simhei.ttf\""
      ],
      "execution_count": null,
      "outputs": [
        {
          "output_type": "stream",
          "text": [
            "--2021-01-01 02:04:50--  https://www.wfonts.com/download/data/2014/06/01/simhei/chinese.simhei.ttf\n",
            "Resolving www.wfonts.com (www.wfonts.com)... 104.225.219.210\n",
            "Connecting to www.wfonts.com (www.wfonts.com)|104.225.219.210|:443... connected.\n",
            "HTTP request sent, awaiting response... 200 OK\n",
            "Length: 10050870 (9.6M) [application/octetstream]\n",
            "Saving to: ‘/usr/share/fonts/truetype/liberation/simhei.ttf’\n",
            "\n",
            "/usr/share/fonts/tr 100%[===================>]   9.58M  18.4MB/s    in 0.5s    \n",
            "\n",
            "2021-01-01 02:04:51 (18.4 MB/s) - ‘/usr/share/fonts/truetype/liberation/simhei.ttf’ saved [10050870/10050870]\n",
            "\n"
          ],
          "name": "stdout"
        }
      ]
    },
    {
      "cell_type": "code",
      "metadata": {
        "id": "boD_1-_1FQro"
      },
      "source": [
        "#参量设置\n",
        "w = wordcloud.WordCloud( font_path = \"simhei.ttf\", mask = mask, width = 1000, height = 700, background_color = \"white\")"
      ],
      "execution_count": null,
      "outputs": []
    },
    {
      "cell_type": "code",
      "metadata": {
        "colab": {
          "base_uri": "https://localhost:8080/"
        },
        "id": "2pLQy1y4FUHa",
        "outputId": "4ac4b357-e73a-4940-fe5a-893c1a85ce19"
      },
      "source": [
        "w.generate(txt)"
      ],
      "execution_count": null,
      "outputs": [
        {
          "output_type": "execute_result",
          "data": {
            "text/plain": [
              "<wordcloud.wordcloud.WordCloud at 0x7f10e7f6f7b8>"
            ]
          },
          "metadata": {
            "tags": []
          },
          "execution_count": 174
        }
      ]
    },
    {
      "cell_type": "code",
      "metadata": {
        "colab": {
          "base_uri": "https://localhost:8080/"
        },
        "id": "qyz7RuAfGwM4",
        "outputId": "4791b836-9efe-4a37-c2f5-5631fbd775be"
      },
      "source": [
        "w.to_file(\"/content/drive/My Drive/xidadada.png\")"
      ],
      "execution_count": null,
      "outputs": [
        {
          "output_type": "execute_result",
          "data": {
            "text/plain": [
              "<wordcloud.wordcloud.WordCloud at 0x7f10e7f6f7b8>"
            ]
          },
          "metadata": {
            "tags": []
          },
          "execution_count": 175
        }
      ]
    }
  ]
}